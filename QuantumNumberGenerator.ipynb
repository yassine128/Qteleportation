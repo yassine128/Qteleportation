{
 "cells": [
  {
   "cell_type": "code",
   "execution_count": 3,
   "metadata": {},
   "outputs": [],
   "source": [
    "from qiskit import *\n",
    "import math\n",
    "%matplotlib inline\n",
    "from qiskit.tools.visualization import plot_histogram"
   ]
  },
  {
   "cell_type": "code",
   "execution_count": 6,
   "metadata": {},
   "outputs": [
    {
     "data": {
      "text/plain": [
       "14"
      ]
     },
     "execution_count": 6,
     "metadata": {},
     "output_type": "execute_result"
    }
   ],
   "source": [
    "def Qrand(qr):\n",
    "    qr = int(math.sqrt(qr))\n",
    "    circuit = QuantumCircuit(qr,qr)\n",
    "    for x in range(qr):\n",
    "        circuit.h(x)\n",
    "        circuit.barrier()\n",
    "    \n",
    "    circuit.measure(range(qr),range(qr))\n",
    "    my_output = circuit.draw(output='mpl')\n",
    "    simulator = Aer.get_backend('qasm_simulator')\n",
    "    result = execute(circuit, backend = simulator, shots=2000).result()\n",
    "    count = result.get_counts()\n",
    "    \n",
    "    #print(len(count))\n",
    "    \n",
    "    j = 0\n",
    "    while(j == 0 ):\n",
    "        try: \n",
    "            v1 = 0\n",
    "            v1 = count.most_frequent()\n",
    "            j = 1\n",
    "        except: \n",
    "            simulator = Aer.get_backend('qasm_simulator')\n",
    "            result = execute(circuit, backend = simulator, shots=2000).result()\n",
    "            count = result.get_counts()\n",
    "            plot_histogram(count)\n",
    "\n",
    "    random_number = (v1)\n",
    "    return(int(random_number, 2))\n",
    "\n",
    "Qrand(20) #limit of 900 because max qubit on qasm_simulator is 30"
   ]
  },
  {
   "cell_type": "code",
   "execution_count": null,
   "metadata": {},
   "outputs": [],
   "source": []
  }
 ],
 "metadata": {
  "kernelspec": {
   "display_name": "Python 3",
   "language": "python",
   "name": "python3"
  },
  "language_info": {
   "codemirror_mode": {
    "name": "ipython",
    "version": 3
   },
   "file_extension": ".py",
   "mimetype": "text/x-python",
   "name": "python",
   "nbconvert_exporter": "python",
   "pygments_lexer": "ipython3",
   "version": "3.7.9"
  }
 },
 "nbformat": 4,
 "nbformat_minor": 4
}
